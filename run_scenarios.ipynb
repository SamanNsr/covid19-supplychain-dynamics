{
 "cells": [
  {
   "cell_type": "code",
   "execution_count": 82,
   "metadata": {
    "collapsed": true,
    "ExecuteTime": {
     "end_time": "2023-07-02T13:23:35.646562Z",
     "start_time": "2023-07-02T13:23:35.644151Z"
    }
   },
   "outputs": [],
   "source": [
    "import pysd\n",
    "import pandas as pd\n",
    "import numpy as np"
   ]
  },
  {
   "cell_type": "code",
   "execution_count": 97,
   "outputs": [],
   "source": [
    "def calculate_profit_index(scenario_df):\n",
    "    # Load the base scenario CSV file\n",
    "    base_df = pd.read_csv('base_scenario.csv')\n",
    "\n",
    "    # Merge base and scenario data on 'time' column\n",
    "    merged_df = pd.merge(base_df, scenario_df, on='time')\n",
    "\n",
    "    # Calculate Total Profit Index for the scenario\n",
    "    merged_df['Total_Profit_Index'] = (merged_df['total profit'] - merged_df['base total profit'])\n",
    "\n",
    "    return merged_df['Total_Profit_Index'].sum()\n"
   ],
   "metadata": {
    "collapsed": false,
    "ExecuteTime": {
     "end_time": "2023-07-02T13:27:23.230119Z",
     "start_time": "2023-07-02T13:27:23.225769Z"
    }
   }
  },
  {
   "cell_type": "code",
   "execution_count": 98,
   "outputs": [],
   "source": [
    "model = pysd.read_vensim('innovation sd.mdl')"
   ],
   "metadata": {
    "collapsed": false,
    "ExecuteTime": {
     "end_time": "2023-07-02T13:27:25.900582Z",
     "start_time": "2023-07-02T13:27:23.888539Z"
    }
   }
  },
  {
   "cell_type": "code",
   "execution_count": 126,
   "outputs": [],
   "source": [
    "# Fixed parameter values\n",
    "fixed_params = {\n",
    "    'hd': 6,\n",
    "    'td': 10,\n",
    "    'hrec': 4,\n",
    "    '\"%reduction of demand\"': 0.5,\n",
    "    'k': 1,\n",
    "    'km1': 0,\n",
    "    'km2': 0,\n",
    "    'km3': 0,\n",
    "    'km4': 0,\n",
    "    'km5': 1,\n",
    "    '\"kused-prod\"': 1,\n",
    "    'krmsi': 1,\n",
    "    # Add more fixed parameters if needed\n",
    "}\n",
    "\n",
    "# Define the parameter values to iterate\n",
    "parameter_vals = {\n",
    "    'kp': [0, 1],\n",
    "    'kppi': [0, 1],\n",
    "    'kd': [0, 1],\n",
    "    'krpi': [0, 1],\n",
    "    'kc': [0, 1],\n",
    "    'kci': [0, 1],\n",
    "}"
   ],
   "metadata": {
    "collapsed": false,
    "ExecuteTime": {
     "end_time": "2023-07-02T13:59:52.701997Z",
     "start_time": "2023-07-02T13:59:52.694715Z"
    }
   }
  },
  {
   "cell_type": "code",
   "execution_count": 128,
   "outputs": [
    {
     "name": "stdout",
     "output_type": "stream",
     "text": [
      "Best Scenario:\n",
      "      total profit\n",
      "time              \n",
      "0.0   0.000000e+00\n",
      "0.5  -4.140000e+05\n",
      "1.0  -6.384000e+05\n",
      "1.5  -9.327188e+05\n",
      "2.0  -1.245616e+06\n",
      "...            ...\n",
      "70.0  3.741192e+07\n",
      "70.5  3.750657e+07\n",
      "71.0  3.761058e+07\n",
      "71.5  3.776085e+07\n",
      "72.0  3.789172e+07\n",
      "\n",
      "[145 rows x 1 columns]\n",
      "---\n",
      "Worst Scenario:\n",
      "      total profit\n",
      "time              \n",
      "0.0   0.000000e+00\n",
      "0.5  -4.140000e+05\n",
      "1.0  -6.384000e+05\n",
      "1.5  -9.327188e+05\n",
      "2.0  -1.245616e+06\n",
      "...            ...\n",
      "70.0  2.493569e+07\n",
      "70.5  2.501909e+07\n",
      "71.0  2.507347e+07\n",
      "71.5  2.513075e+07\n",
      "72.0  2.524573e+07\n",
      "\n",
      "[145 rows x 1 columns]\n"
     ]
    }
   ],
   "source": [
    "import itertools\n",
    "\n",
    "best_profit_index = None\n",
    "worst_profit_index = None\n",
    "best_scenario = None\n",
    "worst_scenario = None\n",
    "best_scenario_index = None\n",
    "worst_scenario_index  = None\n",
    "\n",
    "# Loop through each scenario\n",
    "for scenario in itertools.product(*parameter_vals.values()):\n",
    "    scenario_dict = {**fixed_params, **{param: value for param, value in zip(parameter_vals.keys(), scenario)}}\n",
    "\n",
    "    # Run the simulation with the current scenario parameter values\n",
    "    result = model.run(params=scenario_dict, return_columns=['total profit'])\n",
    "    result = result.rename_axis('time')\n",
    "    # Calculate the profit index and bounds for the current scenario\n",
    "    profit_index = calculate_profit_index(result)\n",
    "    # Update the best and worst average bounds\n",
    "    if best_profit_index is None or profit_index > best_profit_index:\n",
    "        best_profit_index = profit_index\n",
    "        best_scenario = result\n",
    "        best_scenario_index  = scenario\n",
    "\n",
    "    if worst_profit_index is None or profit_index < worst_profit_index:\n",
    "        worst_profit_index = profit_index\n",
    "        worst_scenario = result\n",
    "        worst_scenario_index = scenario\n",
    "\n",
    "# Print the best and worst scenarios\n",
    "print(\"Best Scenario:\")\n",
    "print(best_scenario)\n",
    "print(\"---\")\n",
    "print(\"Worst Scenario:\")\n",
    "print(worst_scenario)"
   ],
   "metadata": {
    "collapsed": false,
    "ExecuteTime": {
     "end_time": "2023-07-02T14:00:29.166317Z",
     "start_time": "2023-07-02T14:00:20.579372Z"
    }
   }
  },
  {
   "cell_type": "code",
   "execution_count": 129,
   "outputs": [
    {
     "data": {
      "text/plain": "1073097783.2738167"
     },
     "execution_count": 129,
     "metadata": {},
     "output_type": "execute_result"
    }
   ],
   "source": [
    "best_profit_index"
   ],
   "metadata": {
    "collapsed": false,
    "ExecuteTime": {
     "end_time": "2023-07-02T14:00:33.034518Z",
     "start_time": "2023-07-02T14:00:33.026531Z"
    }
   }
  },
  {
   "cell_type": "code",
   "execution_count": 130,
   "outputs": [
    {
     "data": {
      "text/plain": "74227478.49634561"
     },
     "execution_count": 130,
     "metadata": {},
     "output_type": "execute_result"
    }
   ],
   "source": [
    "worst_profit_index"
   ],
   "metadata": {
    "collapsed": false,
    "ExecuteTime": {
     "end_time": "2023-07-02T14:00:34.317556Z",
     "start_time": "2023-07-02T14:00:34.313857Z"
    }
   }
  },
  {
   "cell_type": "code",
   "execution_count": null,
   "outputs": [],
   "source": [],
   "metadata": {
    "collapsed": false
   }
  }
 ],
 "metadata": {
  "kernelspec": {
   "display_name": "Python 3",
   "language": "python",
   "name": "python3"
  },
  "language_info": {
   "codemirror_mode": {
    "name": "ipython",
    "version": 2
   },
   "file_extension": ".py",
   "mimetype": "text/x-python",
   "name": "python",
   "nbconvert_exporter": "python",
   "pygments_lexer": "ipython2",
   "version": "2.7.6"
  }
 },
 "nbformat": 4,
 "nbformat_minor": 0
}
