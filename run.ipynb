{
 "cells": [
  {
   "cell_type": "code",
   "execution_count": 1,
   "metadata": {
    "collapsed": true,
    "ExecuteTime": {
     "end_time": "2023-07-03T09:53:30.533124Z",
     "start_time": "2023-07-03T09:53:30.063958Z"
    }
   },
   "outputs": [],
   "source": [
    "import pysd\n",
    "import pandas as pd\n",
    "import numpy as np"
   ]
  },
  {
   "cell_type": "code",
   "execution_count": 2,
   "outputs": [
    {
     "name": "stderr",
     "output_type": "stream",
     "text": [
      "/Users/saman/miniconda3/envs/test/lib/python3.8/site-packages/scipy/__init__.py:146: UserWarning: A NumPy version >=1.16.5 and <1.23.0 is required for this version of SciPy (detected version 1.23.5\n",
      "  warnings.warn(f\"A NumPy version >={np_minversion} and <{np_maxversion}\"\n"
     ]
    }
   ],
   "source": [
    "model = pysd.read_vensim('innovation sd.mdl')"
   ],
   "metadata": {
    "collapsed": false,
    "ExecuteTime": {
     "end_time": "2023-07-03T09:53:32.592893Z",
     "start_time": "2023-07-03T09:53:30.533737Z"
    }
   }
  },
  {
   "cell_type": "code",
   "execution_count": 3,
   "outputs": [],
   "source": [
    "def calculate_profit_index(scenario_df):\n",
    "    # Load the base scenario CSV file\n",
    "    base_df = pd.read_csv('base_scenario.csv')\n",
    "\n",
    "    # Merge base and scenario data on 'time' column\n",
    "    merged_df = pd.merge(base_df, scenario_df, on='time')\n",
    "\n",
    "    # Calculate Total Profit Index for the scenario\n",
    "    merged_df['Total_Profit_Index'] = (merged_df['total profit'] - merged_df['base total profit'])\n",
    "\n",
    "    return merged_df['Total_Profit_Index'].sum()\n"
   ],
   "metadata": {
    "collapsed": false,
    "ExecuteTime": {
     "end_time": "2023-07-03T09:54:31.031016Z",
     "start_time": "2023-07-03T09:54:31.024813Z"
    }
   }
  },
  {
   "cell_type": "code",
   "execution_count": 4,
   "outputs": [],
   "source": [
    "parameter_vals = {\n",
    "    'hd': 6,\n",
    "    'td': 10,\n",
    "    'hrec': 4,\n",
    "    '\"%reduction of demand\"': 0.5,\n",
    "    'k': 1,\n",
    "    'km1': 0,\n",
    "    'km2': 0,\n",
    "    'km3': 0,\n",
    "    'km4': 0,\n",
    "    'km5': 1,\n",
    "    '\"kused-prod\"': 1,\n",
    "    'krmsi': 1,\n",
    "    'kp': 0,\n",
    "    'kppi': 0,\n",
    "    'kd': 0,\n",
    "    'krpi': 0,\n",
    "    'kc': 0,\n",
    "    'kci': 0,\n",
    "    # Add more parameters as needed\n",
    "}"
   ],
   "metadata": {
    "collapsed": false,
    "ExecuteTime": {
     "end_time": "2023-07-03T09:54:32.298463Z",
     "start_time": "2023-07-03T09:54:32.243110Z"
    }
   }
  },
  {
   "cell_type": "code",
   "execution_count": 5,
   "outputs": [],
   "source": [
    "# Run the simulation with the random parameter values\n",
    "result = model.run(params=parameter_vals, return_columns=['total profit'])\n",
    "result = result.rename_axis('time')"
   ],
   "metadata": {
    "collapsed": false,
    "ExecuteTime": {
     "end_time": "2023-07-03T09:54:35.725200Z",
     "start_time": "2023-07-03T09:54:35.566130Z"
    }
   }
  },
  {
   "cell_type": "code",
   "execution_count": 10,
   "outputs": [
    {
     "data": {
      "text/plain": "12001390.937972778"
     },
     "execution_count": 10,
     "metadata": {},
     "output_type": "execute_result"
    }
   ],
   "source": [
    "np.average(result[\"total profit\"])"
   ],
   "metadata": {
    "collapsed": false,
    "ExecuteTime": {
     "end_time": "2023-07-03T10:03:51.634733Z",
     "start_time": "2023-07-03T10:03:51.632452Z"
    }
   }
  },
  {
   "cell_type": "code",
   "execution_count": null,
   "outputs": [],
   "source": [
    "import matplotlib.pyplot as plt\n",
    "\n",
    "# Plot the data\n",
    "plt.plot(result.index, result.iloc[:, 0])\n",
    "\n",
    "# Customize the plot if needed\n",
    "plt.xlabel('Time')\n",
    "plt.ylabel('Data')\n",
    "plt.title('Plot of Data over Time')\n",
    "\n",
    "# Display the plot\n",
    "plt.show()"
   ],
   "metadata": {
    "collapsed": false
   }
  },
  {
   "cell_type": "code",
   "execution_count": null,
   "outputs": [],
   "source": [
    "calculate_profit_index(result)"
   ],
   "metadata": {
    "collapsed": false
   }
  },
  {
   "cell_type": "code",
   "execution_count": null,
   "outputs": [],
   "source": [],
   "metadata": {
    "collapsed": false
   }
  },
  {
   "cell_type": "code",
   "execution_count": null,
   "outputs": [],
   "source": [],
   "metadata": {
    "collapsed": false
   }
  }
 ],
 "metadata": {
  "kernelspec": {
   "display_name": "Python 3",
   "language": "python",
   "name": "python3"
  },
  "language_info": {
   "codemirror_mode": {
    "name": "ipython",
    "version": 2
   },
   "file_extension": ".py",
   "mimetype": "text/x-python",
   "name": "python",
   "nbconvert_exporter": "python",
   "pygments_lexer": "ipython2",
   "version": "2.7.6"
  }
 },
 "nbformat": 4,
 "nbformat_minor": 0
}
